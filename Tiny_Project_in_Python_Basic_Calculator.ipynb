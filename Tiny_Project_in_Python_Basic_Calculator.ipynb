{
  "nbformat": 4,
  "nbformat_minor": 0,
  "metadata": {
    "colab": {
      "provenance": []
    },
    "kernelspec": {
      "name": "python3",
      "display_name": "Python 3"
    },
    "language_info": {
      "name": "python"
    }
  },
  "cells": [
    {
      "cell_type": "code",
      "execution_count": 1,
      "metadata": {
        "colab": {
          "base_uri": "https://localhost:8080/"
        },
        "id": "3QSx0FCymC40",
        "outputId": "54a5793d-7df6-4d53-ecb6-49bace0689bd"
      },
      "outputs": [
        {
          "output_type": "stream",
          "name": "stdout",
          "text": [
            "Choose an operation (add, subtract, multiply, divide): add\n",
            "Enter numbers separated by space: 2 3 4\n",
            "Result: 9.0\n"
          ]
        }
      ],
      "source": [
        "def calculate(operation, *args): #function for our calculation\n",
        "    if not args:\n",
        "        return \"No numbers provided.\"\n",
        "\n",
        "    if operation == 'add':\n",
        "        return sum(args)\n",
        "    elif operation == 'subtract':\n",
        "        result = args[0]\n",
        "        for num in args[1:]:\n",
        "            result -= num\n",
        "        return result\n",
        "    elif operation == 'multiply':\n",
        "        result = 1\n",
        "        for num in args:\n",
        "            result *= num\n",
        "        return result\n",
        "    elif operation == 'divide':\n",
        "        try:\n",
        "            result = args[0]\n",
        "            for num in args[1:]:\n",
        "                result /= num\n",
        "            return result\n",
        "        except ZeroDivisionError:\n",
        "            return \"Error: Division by zero is not allowed.\"\n",
        "    else:\n",
        "        return \"Invalid operation.\"\n",
        "\n",
        "def get_numbers(): #ask user to enter their number for calculation\n",
        "    numbers = input(\"Enter numbers separated by space: \").split()\n",
        "    try:\n",
        "        numbers = [float(num) for num in numbers]\n",
        "    except ValueError:\n",
        "        return None\n",
        "    return numbers\n",
        "\n",
        "def main():  #main function\n",
        "    operation = input(\"Choose an operation (add, subtract, multiply, divide): \").lower()  #in lower for more ease in option entry\n",
        "    numbers = get_numbers()    #get_numbers() function call\n",
        "\n",
        "    if numbers is None:\n",
        "        print(\"Error: Please enter valid numbers.\")\n",
        "        return\n",
        "\n",
        "    result = calculate(operation, *numbers)  #calculation function call\n",
        "    print(f\"Result: {result}\")\n",
        "\n",
        "if __name__ == \"__main__\":\n",
        "    main()\n"
      ]
    }
  ]
}